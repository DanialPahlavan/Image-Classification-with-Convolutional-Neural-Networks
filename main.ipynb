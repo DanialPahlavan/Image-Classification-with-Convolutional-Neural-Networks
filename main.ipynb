{
 "cells": [
  {
   "attachments": {},
   "cell_type": "markdown",
   "metadata": {},
   "source": [
    " # Image Classification with Convolutional Neural Networks\n",
    "\n",
    "This project uses Python and Keras library to train a convolutional neural network (CNN) to classify images of cats and dogs.\n",
    "\n"
   ]
  },
  {
   "cell_type": "code",
   "execution_count": 5,
   "metadata": {},
   "outputs": [
    {
     "name": "stdout",
     "output_type": "stream",
     "text": [
      "Found 20000 images belonging to 1 classes.\n",
      "Found 5000 images belonging to 1 classes.\n"
     ]
    }
   ],
   "source": [
    "# Import necessary libraries\n",
    "import os\n",
    "import numpy as np\n",
    "import tensorflow as tf\n",
    "from tensorflow import keras\n",
    "from tensorflow.keras.preprocessing.image import ImageDataGenerator\n",
    "\n",
    "# Define dataset and output directory paths\n",
    "# you need check new dataset url if this url not work .  \n",
    "dataset_url = 'https://download.microsoft.com/download/3/E/1/3E1C3F21-ECDB-4869-8368-6DEBA77B919F/kagglecatsanddogs_5340.zip'\n",
    "dataset_path = './cats_and_dogs.zip'\n",
    "extract_path = './cats_and_dogs'\n",
    "output_dir = './output'\n",
    "\n",
    "# Download and extract dataset\n",
    "if not os.path.exists(dataset_path):\n",
    "    tf.keras.utils.get_file(dataset_path, dataset_url, extract=True)\n",
    "\n",
    "# Define data generators for training and validation sets\n",
    "datagen = ImageDataGenerator(rescale=1./255, validation_split=0.2)\n",
    "train_generator = datagen.flow_from_directory(\n",
    "    extract_path, target_size=(150, 150), batch_size=32, class_mode='binary', subset='training')\n",
    "val_generator = datagen.flow_from_directory(\n",
    "    extract_path, target_size=(150, 150), batch_size=32, class_mode='binary', subset='validation')\n",
    "\n",
    "# Define the CNN model\n",
    "model = keras.Sequential([\n",
    "    keras.layers.Conv2D(32, (3,3), activation='relu', input_shape=(150,150,3)),\n",
    "    keras.layers.MaxPooling2D(2,2),\n",
    "    keras.layers.Conv2D(64, (3,3), activation='relu'),\n",
    "    keras.layers.MaxPooling2D(2,2),\n",
    "    keras.layers.Conv2D(128, (3,3), activation='relu'),\n",
    "    keras.layers.MaxPooling2D(2,2),\n",
    "    keras.layers.Conv2D(128, (3,3), activation='relu'),\n",
    "    keras.layers.MaxPooling2D(2,2),\n",
    "    keras.layers.Flatten(),\n",
    "    keras.layers.Dropout(0.5),\n",
    "    keras.layers.Dense(512, activation='relu'),\n",
    "    keras.layers.Dense(1, activation='sigmoid')\n",
    "])\n",
    "\n",
    "# Compile the model\n",
    "model.compile(optimizer='adam', loss='binary_crossentropy', metrics=['accuracy'])\n",
    "\n",
    "# Train the model\n"
   ]
  }
 ],
 "metadata": {
  "kernelspec": {
   "display_name": "deoldifynew",
   "language": "python",
   "name": "python3"
  },
  "language_info": {
   "codemirror_mode": {
    "name": "ipython",
    "version": 3
   },
   "file_extension": ".py",
   "mimetype": "text/x-python",
   "name": "python",
   "nbconvert_exporter": "python",
   "pygments_lexer": "ipython3",
   "version": "3.8.16"
  },
  "orig_nbformat": 4
 },
 "nbformat": 4,
 "nbformat_minor": 2
}
